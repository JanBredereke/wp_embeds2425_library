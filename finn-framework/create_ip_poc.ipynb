{
 "cells": [
  {
   "cell_type": "markdown",
   "id": "960244b1",
   "metadata": {},
   "source": [
    "# Notebook zum Erzeugen eines IP-Blocks aus einem quantisierten neuronalen Netz\n",
    "Dieses Jupyter-Notebook erzeugt aus einem quantisierten neuronalen Netz im ONNX-Format einen IP-Block, welcher in die Vivado Design Suite eingebunden werden kann.\n",
    "Da dieses Notebook das FINN-Framework verwendet, muss es in einem Docker-Container ausgeführt werden, welcher die Abhängigkeiten zu FINN enthält.\n",
    "\n",
    "Dieses Notebook stellt ein Proof of Concept zum Erzeugen eines IP Blocks dar, da das endgültige neuronale Netz des Projektes zum Zeitpunkt des Schreibens dieser Dokumentation noch nicht vorhanden war."
   ]
  },
  {
   "cell_type": "markdown",
   "id": "439290f5",
   "metadata": {},
   "source": [
    "## Haupt-Dependencies importieren"
   ]
  },
  {
   "cell_type": "code",
   "execution_count": 1,
   "id": "534a59b2-8750-4188-bf85-55a5c9218695",
   "metadata": {},
   "outputs": [],
   "source": [
    "import onnx\n",
    "import torch"
   ]
  },
  {
   "cell_type": "markdown",
   "id": "bc9f0f17",
   "metadata": {},
   "source": [
    "## Laden des neuronalen Netzes aus einer ONNX-Datei\n",
    "Das neuronale Netz wird mithilfe der Klasse `ModelWrapper` in FINN als Modell geladen."
   ]
  },
  {
   "cell_type": "code",
   "execution_count": 2,
   "id": "773dd6f8-e45c-4800-8eeb-12747ed5dfe3",
   "metadata": {},
   "outputs": [],
   "source": [
    "import os\n",
    "from qonnx.core.modelwrapper import ModelWrapper\n",
    "from qonnx.core.datatype import DataType\n",
    "from finn.transformation.qonnx.convert_qonnx_to_finn import ConvertQONNXtoFINN\n",
    "\n",
    "# Das Verzeichnis der ONNX-Datei\n",
    "model_dir = \".\"\n",
    "# Das relative Verzeichnis für die Ausgabegabedatein des Notebooks\n",
    "builder_dir = model_dir + \"/builder_output\"\n",
    "# Der Dateiname der ONNX-Datei\n",
    "ready_model_filename = model_dir + \"/DefaultModel.onnx\""
   ]
  },
  {
   "cell_type": "code",
   "execution_count": 4,
   "id": "75020297-3c24-471f-ae9b-c8c80d7ea8bf",
   "metadata": {},
   "outputs": [
    {
     "name": "stdout",
     "output_type": "stream",
     "text": [
      "Stopping http://0.0.0.0:8081\n",
      "Serving './DefaultModel.onnx' at http://0.0.0.0:8081\n"
     ]
    },
    {
     "data": {
      "text/html": [
       "\n",
       "        <iframe\n",
       "            width=\"100%\"\n",
       "            height=\"400\"\n",
       "            src=\"http://localhost:8081/\"\n",
       "            frameborder=\"0\"\n",
       "            allowfullscreen\n",
       "            \n",
       "        ></iframe>\n",
       "        "
      ],
      "text/plain": [
       "<IPython.lib.display.IFrame at 0x7795d7e57af0>"
      ]
     },
     "execution_count": 4,
     "metadata": {},
     "output_type": "execute_result"
    }
   ],
   "source": [
    "from finn.util.visualization import showInNetron, showSrc\n",
    "\n",
    "# ModelWrapper wird zum Laden der ONNX-Datei in FINN benoetigt\n",
    "# Zudem werden hierdurch verschiedene Hilsfunktionen fuer das Modell zur Verfuegung gestellt\n",
    "model = ModelWrapper(ready_model_filename)\n",
    "\n",
    "# Visualisierung des neuronalen Netzes\n",
    "showInNetron(ready_model_filename)"
   ]
  },
  {
   "cell_type": "markdown",
   "id": "7873f8ea",
   "metadata": {},
   "source": [
    "## Notwendige Transformationen auf das Modell anwenden\n",
    "Für die weiteren Verarbeitungsschritte müssen einige Transformationen auf das importierte Modell angewandt werden."
   ]
  },
  {
   "cell_type": "code",
   "execution_count": 5,
   "id": "53a4516b-39ff-4590-b550-84f225487c4b",
   "metadata": {},
   "outputs": [],
   "source": [
    "from qonnx.transformation.general import GiveUniqueNodeNames, GiveReadableTensorNames, RemoveStaticGraphInputs\n",
    "from qonnx.transformation.infer_datatypes import InferDataTypes\n",
    "from qonnx.transformation.infer_shapes import InferShapes\n",
    "from qonnx.transformation.fold_constants import FoldConstants\n",
    "\n",
    "model = model.transform(InferShapes()) # Ableiten der Tensoren-Formen aus den Modell-Eigenschaften\n",
    "model = model.transform(FoldConstants()) # Faltung von konstanten Netzwerkteilen => Vereinfachung des Netzwerks\n",
    "model = model.transform(GiveUniqueNodeNames()) # Vergabe von eindeutigen Bezeichnern fuer die Netzwerkt-Nodes\n",
    "model = model.transform(GiveReadableTensorNames()) # Vergabe von fuer Menschen lesbare Namen fuer Tensoren\n",
    "model = model.transform(InferDataTypes()) # Ableiten der Tensoren-Datentypen aus den Modell-Eigenschaften\n",
    "model = model.transform(RemoveStaticGraphInputs()) # Entfernen von Netzwerk-Eingaengen, welche schon ONNX-Initialisierer verwenden\n",
    "\n",
    "# Speichern des transformierten Modells als Zwischenausgabe\n",
    "model.save(builder_dir + \"/model_tidy.onnx\")"
   ]
  },
  {
   "cell_type": "code",
   "execution_count": 6,
   "id": "36af51c0-b9d4-4724-92e3-5072d9a978ae",
   "metadata": {},
   "outputs": [
    {
     "name": "stdout",
     "output_type": "stream",
     "text": [
      "Stopping http://0.0.0.0:8081\n",
      "Serving './builder_output/model_tidy.onnx' at http://0.0.0.0:8081\n"
     ]
    },
    {
     "data": {
      "text/html": [
       "\n",
       "        <iframe\n",
       "            width=\"100%\"\n",
       "            height=\"400\"\n",
       "            src=\"http://localhost:8081/\"\n",
       "            frameborder=\"0\"\n",
       "            allowfullscreen\n",
       "            \n",
       "        ></iframe>\n",
       "        "
      ],
      "text/plain": [
       "<IPython.lib.display.IFrame at 0x7795d7e564a0>"
      ]
     },
     "execution_count": 6,
     "metadata": {},
     "output_type": "execute_result"
    }
   ],
   "source": [
    "# Visualisierung des transfomierten Modells\n",
    "model = ModelWrapper(builder_dir + \"/model_tidy.onnx\")\n",
    "showInNetron(builder_dir + \"/model_tidy.onnx\")"
   ]
  },
  {
   "cell_type": "markdown",
   "id": "e458781b",
   "metadata": {},
   "source": [
    "## Umwandlung der Netzwerk-Layer in Hardware-Layer"
   ]
  },
  {
   "cell_type": "code",
   "execution_count": 7,
   "id": "696318aa-076e-43c5-a348-4f9a3a630d61",
   "metadata": {},
   "outputs": [],
   "source": [
    "from finn.transformation.fpgadataflow.create_dataflow_partition import CreateDataflowPartition\n",
    "\n",
    "model = ModelWrapper(builder_dir + \"/model_tidy.onnx\")\n",
    "parent_model = model.transform(CreateDataflowPartition())\n",
    "parent_model.save(builder_dir + \"/parent.onnx\")"
   ]
  },
  {
   "cell_type": "code",
   "execution_count": 8,
   "id": "94d45541-b19c-4477-88aa-ab424f376fa6",
   "metadata": {},
   "outputs": [
    {
     "name": "stdout",
     "output_type": "stream",
     "text": [
      "Stopping http://0.0.0.0:8081\n",
      "Serving './builder_output/parent.onnx' at http://0.0.0.0:8081\n"
     ]
    },
    {
     "data": {
      "text/html": [
       "\n",
       "        <iframe\n",
       "            width=\"100%\"\n",
       "            height=\"400\"\n",
       "            src=\"http://localhost:8081/\"\n",
       "            frameborder=\"0\"\n",
       "            allowfullscreen\n",
       "            \n",
       "        ></iframe>\n",
       "        "
      ],
      "text/plain": [
       "<IPython.lib.display.IFrame at 0x7795d7e56bf0>"
      ]
     },
     "execution_count": 8,
     "metadata": {},
     "output_type": "execute_result"
    }
   ],
   "source": [
    "# Visualisierung des Modells mit Hardware-Layern\n",
    "model = ModelWrapper(builder_dir + \"/parent.onnx\")\n",
    "showInNetron(builder_dir + \"/parent.onnx\")"
   ]
  },
  {
   "cell_type": "markdown",
   "id": "b9607811",
   "metadata": {},
   "source": [
    "## Finale Vorbereitung des Modells für die IP-Block-Erstellung"
   ]
  },
  {
   "cell_type": "code",
   "execution_count": 9,
   "id": "48eac276-d5e5-4afa-b9ce-1868208dfc3e",
   "metadata": {},
   "outputs": [
    {
     "name": "stdout",
     "output_type": "stream",
     "text": [
      "dict_keys(['Ultra96', 'Ultra96-V2', 'Pynq-Z1', 'Pynq-Z2', 'ZCU102', 'ZCU104', 'ZCU111', 'RFSoC2x2', 'RFSoC4x2', 'KV260_SOM'])\n"
     ]
    }
   ],
   "source": [
    "# Auflistung der verfuegbaren FPGA-Boards\n",
    "from finn.util.basic import pynq_part_map\n",
    "print(pynq_part_map.keys())"
   ]
  },
  {
   "cell_type": "code",
   "execution_count": 10,
   "id": "abdb52a9-1afe-4710-9602-dd90fd71e504",
   "metadata": {},
   "outputs": [],
   "source": [
    "# FPGA-Board festlegen\n",
    "pynq_board = \"Pynq-Z2\"\n",
    "# FPGA-Board-Informationen auswaehlen\n",
    "fpga_part = pynq_part_map[pynq_board]\n",
    "# Takt-Frequenz festlegen\n",
    "target_clk_ns = 10"
   ]
  },
  {
   "cell_type": "code",
   "execution_count": 11,
   "id": "69519b20-0bdc-4706-80f8-ad2327c87884",
   "metadata": {},
   "outputs": [
    {
     "name": "stdout",
     "output_type": "stream",
     "text": [
      "input: \"global_in\"\n",
      "input: \"MatMul_0_param0\"\n",
      "output: \"MatMul_0_out0\"\n",
      "name: \"MatMul_0\"\n",
      "op_type: \"MatMul\"\n",
      "domain: \"\"\n",
      "\n",
      "input: \"MatMul_0_out0\"\n",
      "input: \"Mul_0_param0\"\n",
      "output: \"Mul_0_out0\"\n",
      "name: \"Mul_0\"\n",
      "op_type: \"Mul\"\n",
      "\n",
      "input: \"Mul_0_out0\"\n",
      "input: \"MultiThreshold_0_param0\"\n",
      "output: \"MultiThreshold_0_out0\"\n",
      "name: \"MultiThreshold_0\"\n",
      "op_type: \"MultiThreshold\"\n",
      "attribute {\n",
      "  name: \"out_dtype\"\n",
      "  s: \"UINT4\"\n",
      "  type: STRING\n",
      "}\n",
      "domain: \"qonnx.custom_op.general\"\n",
      "\n",
      "input: \"MultiThreshold_0_out0\"\n",
      "input: \"Mul_1_param0\"\n",
      "output: \"Mul_1_out0\"\n",
      "name: \"Mul_1\"\n",
      "op_type: \"Mul\"\n",
      "\n",
      "input: \"Mul_1_out0\"\n",
      "input: \"MultiThreshold_1_param0\"\n",
      "output: \"MultiThreshold_1_out0\"\n",
      "name: \"MultiThreshold_1\"\n",
      "op_type: \"MultiThreshold\"\n",
      "attribute {\n",
      "  name: \"out_dtype\"\n",
      "  s: \"UINT4\"\n",
      "  type: STRING\n",
      "}\n",
      "domain: \"qonnx.custom_op.general\"\n",
      "\n",
      "input: \"MultiThreshold_1_out0\"\n",
      "input: \"Mul_2_param0\"\n",
      "output: \"Mul_2_out0\"\n",
      "name: \"Mul_2\"\n",
      "op_type: \"Mul\"\n",
      "\n",
      "input: \"Mul_2_out0\"\n",
      "input: \"MatMul_1_param0\"\n",
      "output: \"MatMul_1_out0\"\n",
      "name: \"MatMul_1\"\n",
      "op_type: \"MatMul\"\n",
      "domain: \"\"\n",
      "\n",
      "input: \"MatMul_1_out0\"\n",
      "input: \"Mul_3_param0\"\n",
      "output: \"Mul_3_out0\"\n",
      "name: \"Mul_3\"\n",
      "op_type: \"Mul\"\n",
      "\n",
      "input: \"Mul_3_out0\"\n",
      "input: \"BatchNormalization_0_param0\"\n",
      "input: \"BatchNormalization_0_param1\"\n",
      "input: \"BatchNormalization_0_param2\"\n",
      "input: \"BatchNormalization_0_param3\"\n",
      "output: \"global_out\"\n",
      "name: \"BatchNormalization_0\"\n",
      "op_type: \"BatchNormalization\"\n",
      "attribute {\n",
      "  name: \"epsilon\"\n",
      "  f: 9.999999747378752e-06\n",
      "  type: FLOAT\n",
      "}\n",
      "attribute {\n",
      "  name: \"momentum\"\n",
      "  f: 0.8999999761581421\n",
      "  type: FLOAT\n",
      "}\n",
      "attribute {\n",
      "  name: \"training_mode\"\n",
      "  i: 0\n",
      "  type: INT\n",
      "}\n",
      "\n"
     ]
    }
   ],
   "source": [
    "from finn.transformation.fpgadataflow.make_zynq_proj import ZynqBuild\n",
    "model = ModelWrapper(builder_dir + \"/parent.onnx\")\n",
    "\n",
    "# Ausgabe der einzelnen Netzwerk-Nodes\n",
    "for node in model.graph.node:\n",
    "    print(node)"
   ]
  },
  {
   "cell_type": "code",
   "execution_count": 12,
   "id": "cc8d001a-254e-4cef-8045-2522a6d37333",
   "metadata": {},
   "outputs": [],
   "source": [
    "from finn.transformation.fpgadataflow.prepare_ip import PrepareIP\n",
    "\n",
    "# Vorbereitung des Modells zur Implementierung in einem IP-Block\n",
    "model = ModelWrapper(builder_dir + \"/parent.onnx\")\n",
    "model = model.transform(PrepareIP(fpga_part, target_clk_ns))\n",
    "model.save(builder_dir + \"/model_prepared.onnx\")"
   ]
  },
  {
   "cell_type": "code",
   "execution_count": 13,
   "id": "0398d0f2-57f3-4642-8275-c6ab5579c833",
   "metadata": {},
   "outputs": [],
   "source": [
    "from finn.transformation.qonnx.convert_qonnx_to_finn import ConvertQONNXtoFINN\n",
    "\n",
    "# Umwandlung des Modells in ein fuer FINN und die weiteren Schritte notwendiges Format\n",
    "model_file = builder_dir + \"/model_prepared.onnx\"\n",
    "model = ModelWrapper(model_file)\n",
    "model = model.transform(ConvertQONNXtoFINN())\n",
    "model.save(builder_dir + \"/model_file_ready.onnx\")"
   ]
  },
  {
   "cell_type": "markdown",
   "id": "9dde7328",
   "metadata": {},
   "source": [
    "## Erstellung des IP-Blocks"
   ]
  },
  {
   "cell_type": "code",
   "execution_count": 14,
   "id": "5380cc03-f6c4-44c4-80f4-1194fa17fa97",
   "metadata": {},
   "outputs": [
    {
     "name": "stdout",
     "output_type": "stream",
     "text": [
      "Previous run results deleted!\n"
     ]
    }
   ],
   "source": [
    "import finn.builder.build_dataflow as build\n",
    "import finn.builder.build_dataflow_config as build_cfg\n",
    "import os\n",
    "import shutil\n",
    "\n",
    "# Laden des fuer die IP-Block umgewandelten Modells\n",
    "model_file = builder_dir + \"/model_file_ready.onnx\"\n",
    "model = ModelWrapper(model_file)\n",
    "rtl_output = model_dir + \"/rtl_output\"\n",
    "\n",
    "# Loeschen von vorherigen Ausgaben des Build-Prozesses\n",
    "if os.path.exists(rtl_output):\n",
    "    shutil.rmtree(rtl_output)\n",
    "    print(\"Previous run results deleted!\")\n",
    "\n",
    "# Erstellen der Konfiguration zur Erzeugung des IP-Blocks\n",
    "cfg_stitched_ip = build.DataflowBuildConfig(\n",
    "    output_dir          = rtl_output,\n",
    "    mvau_wwidth_max     = 80,\n",
    "    target_fps          = 1000000,\n",
    "    synth_clk_period_ns = target_clk_ns,\n",
    "    fpga_part           = fpga_part,\n",
    "    generate_outputs=[\n",
    "        build_cfg.DataflowOutputType.STITCHED_IP,\n",
    "    ],\n",
    "    auto_fifo_depths = False,\n",
    "    stitched_ip_gen_dcp = True\n",
    ")"
   ]
  },
  {
   "cell_type": "code",
   "execution_count": 15,
   "id": "44e439e7-8144-4007-bf0c-7aab07a1380e",
   "metadata": {},
   "outputs": [
    {
     "name": "stdout",
     "output_type": "stream",
     "text": [
      "Building dataflow accelerator from ./builder_output/model_file_ready.onnx\n",
      "Intermediate outputs will be generated in /tmp/finn_dev_root\n",
      "Final outputs will be generated in ./rtl_output\n",
      "Build log is at ./rtl_output/build_dataflow.log\n",
      "Running step: step_qonnx_to_finn [1/19]\n",
      "Running step: step_tidy_up [2/19]\n",
      "Running step: step_streamline [3/19]\n",
      "Running step: step_convert_to_hw [4/19]\n",
      "Running step: step_create_dataflow_partition [5/19]\n",
      "Running step: step_specialize_layers [6/19]\n",
      "Running step: step_target_fps_parallelization [7/19]\n",
      "Running step: step_apply_folding_config [8/19]\n",
      "Running step: step_minimize_bit_width [9/19]\n",
      "Running step: step_generate_estimate_reports [10/19]\n",
      "Running step: step_hw_codegen [11/19]\n",
      "Running step: step_hw_ipgen [12/19]\n",
      "Running step: step_set_fifo_depths [13/19]\n",
      "Running step: step_create_stitched_ip [14/19]\n",
      "Running step: step_measure_rtlsim_performance [15/19]\n",
      "Running step: step_out_of_context_synthesis [16/19]\n",
      "Running step: step_synthesize_bitfile [17/19]\n",
      "Running step: step_make_pynq_driver [18/19]\n",
      "Running step: step_deployment_package [19/19]\n",
      "Completed successfully\n",
      "CPU times: user 5.06 s, sys: 1.27 s, total: 6.32 s\n",
      "Wall time: 1min 11s\n"
     ]
    },
    {
     "data": {
      "text/plain": [
       "0"
      ]
     },
     "execution_count": 15,
     "metadata": {},
     "output_type": "execute_result"
    }
   ],
   "source": [
    "%%time\n",
    "# Starten des Build-Prozesses fuer den IP-Block\n",
    "build.build_dataflow_cfg(\n",
    "    model_file, \n",
    "    cfg_stitched_ip,\n",
    ")"
   ]
  }
 ],
 "metadata": {
  "kernelspec": {
   "display_name": "Python 3 (ipykernel)",
   "language": "python",
   "name": "python3"
  },
  "language_info": {
   "codemirror_mode": {
    "name": "ipython",
    "version": 3
   },
   "file_extension": ".py",
   "mimetype": "text/x-python",
   "name": "python",
   "nbconvert_exporter": "python",
   "pygments_lexer": "ipython3",
   "version": "3.10.12"
  }
 },
 "nbformat": 4,
 "nbformat_minor": 5
}
