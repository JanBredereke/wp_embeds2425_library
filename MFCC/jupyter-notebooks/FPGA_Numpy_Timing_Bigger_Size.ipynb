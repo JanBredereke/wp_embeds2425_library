{
 "cells": [
  {
   "cell_type": "markdown",
   "id": "52fe1af7-9ef5-42bd-8942-ff4e2d568431",
   "metadata": {},
   "source": [
    "# Timing Analyses of the numpy fft implementation compared to an implementation on an FPGA-Board mit $\\textit{NFFT} = 2^{14}$\n",
    "Author: David Schulz"
   ]
  },
  {
   "cell_type": "markdown",
   "id": "fe055a24-2760-4a38-a478-1f78b38b86cd",
   "metadata": {},
   "source": [
    "## 0. Setup"
   ]
  },
  {
   "cell_type": "code",
   "execution_count": 1,
   "id": "1b1e1426-99c4-4784-b9ab-391565163d82",
   "metadata": {},
   "outputs": [],
   "source": [
    "import numpy as np\n",
    "from time import perf_counter_ns\n",
    "from pynq import Overlay, allocate\n",
    "from typing import Callable, Optional"
   ]
  },
  {
   "cell_type": "code",
   "execution_count": 2,
   "id": "b118e079-cceb-4fa5-854b-eda1d4c1d72f",
   "metadata": {},
   "outputs": [],
   "source": [
    "def timeit(\n",
    "    func: Callable[[np.ndarray], np.ndarray], \n",
    "    values: np.ndarray, \n",
    "    func_setup: Optional[Callable[[np.ndarray], None]] = lambda y: None\n",
    ") -> None:\n",
    "    \"\"\"\n",
    "    timeit is a function that times the input function with the given values\n",
    "\n",
    "    params:\n",
    "        - func: the function that is supposed to be timed\n",
    "        - values: values that are used as parameters while calling the function (func)\n",
    "\n",
    "    return: None\n",
    "    \"\"\"\n",
    "\n",
    "    # get the number of items inside the numpy array\n",
    "    # this is the number of runs that are done\n",
    "    runs: int = values.shape[0]\n",
    "    \n",
    "    # create an array with all the times for each run\n",
    "    times: np.ndarray = np.zeros(runs)\n",
    "\n",
    "    # loop over the number of runs and time the function for each loop\n",
    "    for i in range(runs):\n",
    "        func_setup(values[i])\n",
    "        \n",
    "        # get the start time with the performance counter in nano seconds to\n",
    "        # ensure the highest precision\n",
    "        start_time: int = perf_counter_ns()\n",
    "\n",
    "        # call the function with the values for this loop\n",
    "        func(values[i])\n",
    "        \n",
    "        # get the end time with the performance counter in nano seconds to\n",
    "        # ensure the highest precision\n",
    "        end_time: int = perf_counter_ns()\n",
    "\n",
    "        # subtract the end time with the start time to get the time that the function needed\n",
    "        # and store this time inside the times array\n",
    "        times[i] = end_time - start_time\n",
    "\n",
    "    # calculate the mean and standard deviation in nano seconds\n",
    "    mean_ns: np.float64 = np.mean(times)\n",
    "    std_ns: np.float64 = np.std(times)\n",
    "\n",
    "    # convert the mean and standard deviation to milli seconds\n",
    "    mean_milli: np.float64 = mean_ns * 10**-6\n",
    "    std_milli: np.float64 = std_ns * 10**-6\n",
    "\n",
    "    # round the mean and standard deviation to 2 decimal places\n",
    "    mean_milli_round: np.float64 = np.round(mean_milli, decimals=2)\n",
    "    std_milli_round: np.float64 = np.round(std_milli, decimals=2)\n",
    "\n",
    "    # print the result to the console\n",
    "    # the output is supposed to be similar to the output of the built-in package timeit\n",
    "    print(f'{mean_milli_round} ms ± {std_milli_round} ms per loop (mean ± std. dev. of {runs} runs)')"
   ]
  },
  {
   "cell_type": "code",
   "execution_count": 3,
   "id": "ef3f2d38-9c3e-4a52-909d-a92d905aa16b",
   "metadata": {},
   "outputs": [],
   "source": [
    "NFFT: int = 2**14\n",
    "\n",
    "# defined values to be used as an input to the fft functions\n",
    "values = np.random.random_sample((1_000,NFFT))"
   ]
  },
  {
   "cell_type": "markdown",
   "id": "19f0a7dd-c183-421e-9e39-868658afc7f2",
   "metadata": {},
   "source": [
    "## 1. Numpy Timing"
   ]
  },
  {
   "cell_type": "code",
   "execution_count": 4,
   "id": "24c395f6-bc29-4822-b6d2-7d772c3bc257",
   "metadata": {},
   "outputs": [],
   "source": [
    "# defining the numpy fft function\n",
    "numpy_fft: Callable[[np.ndarray], np.ndarray] = np.fft.fft"
   ]
  },
  {
   "cell_type": "code",
   "execution_count": 5,
   "id": "6b35ca02-1575-486c-a2c7-df51b6e763c6",
   "metadata": {},
   "outputs": [
    {
     "name": "stdout",
     "output_type": "stream",
     "text": [
      "9.14 ms ± 0.85 ms per loop (mean ± std. dev. of 1000 runs)\n"
     ]
    }
   ],
   "source": [
    "# calling the defined timeit function to time the numpy fft function with the predefined values\n",
    "timeit(numpy_fft, values)"
   ]
  },
  {
   "cell_type": "markdown",
   "id": "ac7bab77-bfc2-4654-81c4-3bf9599a0efb",
   "metadata": {},
   "source": [
    "## 2. FPGA FFT Timing"
   ]
  },
  {
   "cell_type": "code",
   "execution_count": 6,
   "id": "816d189b-6a4c-4d27-8d60-0e480eaa5fb3",
   "metadata": {},
   "outputs": [
    {
     "data": {
      "application/javascript": [
       "\n",
       "try {\n",
       "require(['notebook/js/codecell'], function(codecell) {\n",
       "  codecell.CodeCell.options_default.highlight_modes[\n",
       "      'magic_text/x-csrc'] = {'reg':[/^%%microblaze/]};\n",
       "  Jupyter.notebook.events.one('kernel_ready.Kernel', function(){\n",
       "      Jupyter.notebook.get_cells().map(function(cell){\n",
       "          if (cell.cell_type == 'code'){ cell.auto_highlight(); } }) ;\n",
       "  });\n",
       "});\n",
       "} catch (e) {};\n"
      ]
     },
     "metadata": {},
     "output_type": "display_data"
    },
    {
     "data": {
      "application/javascript": [
       "\n",
       "try {\n",
       "require(['notebook/js/codecell'], function(codecell) {\n",
       "  codecell.CodeCell.options_default.highlight_modes[\n",
       "      'magic_text/x-csrc'] = {'reg':[/^%%pybind11/]};\n",
       "  Jupyter.notebook.events.one('kernel_ready.Kernel', function(){\n",
       "      Jupyter.notebook.get_cells().map(function(cell){\n",
       "          if (cell.cell_type == 'code'){ cell.auto_highlight(); } }) ;\n",
       "  });\n",
       "});\n",
       "} catch (e) {};\n"
      ]
     },
     "metadata": {},
     "output_type": "display_data"
    }
   ],
   "source": [
    "# load the overlay of the fft block\n",
    "overlay: Overlay = Overlay('FFT_test_16k.bit')\n",
    "    \n",
    "fft_data_dma = overlay.fft_data_dma\n",
    "fft_config_dma = overlay.fft_config_dma\n",
    "\n",
    "fft_data_send_channel = fft_data_dma.sendchannel\n",
    "fft_data_receive_channel = fft_data_dma.recvchannel\n",
    "fft_config_send_channel = fft_config_dma.sendchannel"
   ]
  },
  {
   "cell_type": "code",
   "execution_count": 7,
   "id": "1ffad859",
   "metadata": {},
   "outputs": [],
   "source": [
    "input_buffer = allocate(NFFT, dtype=np.csingle)\n",
    "output_buffer = allocate(NFFT, dtype=np.csingle)"
   ]
  },
  {
   "cell_type": "code",
   "execution_count": 8,
   "id": "466f68fa",
   "metadata": {},
   "outputs": [],
   "source": [
    "def fpga_fft_setup(y: np.ndarray):\n",
    "    np.copyto(input_buffer, y) "
   ]
  },
  {
   "cell_type": "code",
   "execution_count": 9,
   "id": "d8c23add-ec33-4455-bb72-87600c298741",
   "metadata": {},
   "outputs": [],
   "source": [
    "def fpga_fft(y: np.ndarray):\n",
    "    fft_data_send_channel.transfer(input_buffer)\n",
    "    fft_data_receive_channel.transfer(output_buffer)\n",
    "    fft_data_send_channel.wait()\n",
    "    fft_data_receive_channel.wait()"
   ]
  },
  {
   "cell_type": "code",
   "execution_count": 10,
   "id": "b53438e9-72aa-4acf-b646-511a0df5c793",
   "metadata": {},
   "outputs": [
    {
     "name": "stdout",
     "output_type": "stream",
     "text": [
      "1.36 ms ± 0.08 ms per loop (mean ± std. dev. of 1000 runs)\n"
     ]
    }
   ],
   "source": [
    "timeit(fpga_fft, values, func_setup=fpga_fft_setup)"
   ]
  },
  {
   "cell_type": "markdown",
   "id": "933f6cb1",
   "metadata": {},
   "source": [
    "## 3. FPGA Timing without Transfer "
   ]
  },
  {
   "cell_type": "code",
   "execution_count": 11,
   "id": "7e6d4988",
   "metadata": {},
   "outputs": [],
   "source": [
    "def fpga_fft_setup(y: np.ndarray):\n",
    "    np.copyto(input_buffer, y)\n",
    "    fft_data_send_channel.transfer(input_buffer)"
   ]
  },
  {
   "cell_type": "code",
   "execution_count": 12,
   "id": "a3ffd00a-9d39-4fb6-bd1c-096c63ad738b",
   "metadata": {},
   "outputs": [],
   "source": [
    "def fpga_fft_without_transfer(y: np.ndarray):\n",
    "    fft_data_receive_channel.transfer(output_buffer)\n",
    "    fft_data_send_channel.wait()\n",
    "    fft_data_receive_channel.wait()"
   ]
  },
  {
   "cell_type": "code",
   "execution_count": 13,
   "id": "bd92573e",
   "metadata": {},
   "outputs": [
    {
     "name": "stdout",
     "output_type": "stream",
     "text": [
      "0.99 ms ± 0.02 ms per loop (mean ± std. dev. of 1000 runs)\n"
     ]
    }
   ],
   "source": [
    "timeit(fpga_fft_without_transfer, values, func_setup=fpga_fft_setup)"
   ]
  },
  {
   "cell_type": "markdown",
   "id": "1376a63c",
   "metadata": {},
   "source": [
    "# 3. FPGA Timing without Transfer 2"
   ]
  },
  {
   "cell_type": "code",
   "execution_count": 14,
   "id": "c4f16f75",
   "metadata": {},
   "outputs": [],
   "source": [
    "def fpga_fft_setup_2(y: np.ndarray):\n",
    "    np.copyto(input_buffer, y)\n",
    "    fft_data_send_channel.transfer(input_buffer)\n",
    "    fft_data_receive_channel.transfer(output_buffer)"
   ]
  },
  {
   "cell_type": "code",
   "execution_count": 15,
   "id": "1c0196d2",
   "metadata": {},
   "outputs": [],
   "source": [
    "def fpga_fft_without_transfer_2(y: np.ndarray):\n",
    "    fft_data_send_channel.wait()\n",
    "    fft_data_receive_channel.wait()"
   ]
  },
  {
   "cell_type": "code",
   "execution_count": 16,
   "id": "a5f3a992",
   "metadata": {},
   "outputs": [
    {
     "name": "stdout",
     "output_type": "stream",
     "text": [
      "0.87 ms ± 0.11 ms per loop (mean ± std. dev. of 1000 runs)\n"
     ]
    }
   ],
   "source": [
    "timeit(fpga_fft_without_transfer_2, values, func_setup=fpga_fft_setup_2)"
   ]
  },
  {
   "cell_type": "markdown",
   "id": "913a1b73",
   "metadata": {},
   "source": [
    "# 3. FPGA Timing without Transfer 3"
   ]
  },
  {
   "cell_type": "code",
   "execution_count": 17,
   "id": "156597b9",
   "metadata": {},
   "outputs": [],
   "source": [
    "def fpga_fft_setup_3(y: np.ndarray):\n",
    "    np.copyto(input_buffer, y)\n",
    "    fft_data_send_channel.transfer(input_buffer)\n",
    "    fft_data_receive_channel.transfer(output_buffer)\n",
    "    fft_data_send_channel.wait()"
   ]
  },
  {
   "cell_type": "code",
   "execution_count": 18,
   "id": "a66075cb",
   "metadata": {},
   "outputs": [],
   "source": [
    "def fpga_fft_without_transfer_3(y: np.ndarray):\n",
    "    fft_data_receive_channel.wait()"
   ]
  },
  {
   "cell_type": "code",
   "execution_count": 19,
   "id": "168b1370",
   "metadata": {},
   "outputs": [
    {
     "name": "stdout",
     "output_type": "stream",
     "text": [
      "0.76 ms ± 0.04 ms per loop (mean ± std. dev. of 1000 runs)\n"
     ]
    }
   ],
   "source": [
    "timeit(fpga_fft_without_transfer_3, values, func_setup=fpga_fft_setup_3)"
   ]
  }
 ],
 "metadata": {
  "kernelspec": {
   "display_name": "Python 3 (ipykernel)",
   "language": "python",
   "name": "python3"
  },
  "language_info": {
   "codemirror_mode": {
    "name": "ipython",
    "version": 3
   },
   "file_extension": ".py",
   "mimetype": "text/x-python",
   "name": "python",
   "nbconvert_exporter": "python",
   "pygments_lexer": "ipython3",
   "version": "3.10.4"
  }
 },
 "nbformat": 4,
 "nbformat_minor": 5
}
