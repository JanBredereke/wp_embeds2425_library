{
 "cells": [
  {
   "cell_type": "markdown",
   "id": "a6342237",
   "metadata": {},
   "source": [
    "# Test Implementation von MFCC\n",
    "Author: David Schulz"
   ]
  },
  {
   "cell_type": "code",
   "execution_count": 27,
   "id": "be474bcd-c711-4e09-849f-e43392ecc582",
   "metadata": {},
   "outputs": [],
   "source": [
    "import decimal\n",
    "\n",
    "import numpy\n",
    "import math\n",
    "import logging\n",
    "from scipy.fftpack import dct\n",
    "from librosa import load, ex, feature"
   ]
  },
  {
   "cell_type": "code",
   "execution_count": 3,
   "id": "260eeca8-1d5b-471c-b584-6227d2939256",
   "metadata": {},
   "outputs": [],
   "source": [
    "def calculate_nfft(samplerate, winlen):\n",
    "    window_length_samples = winlen * samplerate\n",
    "    nfft = 1\n",
    "    while nfft < window_length_samples:\n",
    "        nfft *= 2\n",
    "    return nfft"
   ]
  },
  {
   "cell_type": "code",
   "execution_count": 5,
   "id": "73857f1c-9a73-4c52-a4ea-cf7715a2e67c",
   "metadata": {},
   "outputs": [],
   "source": [
    "def mfcc(signal,samplerate=16000,winlen=0.025,winstep=0.01,numcep=13,\n",
    "         nfilt=26,nfft=None,lowfreq=0,highfreq=None,preemph=0.97,ceplifter=22,appendEnergy=True,\n",
    "         winfunc=lambda x:numpy.ones((x,))):\n",
    "    nfft = nfft or calculate_nfft(samplerate, winlen)\n",
    "    feat,energy = fbank(signal,samplerate,winlen,winstep,nfilt,nfft,lowfreq,highfreq,preemph,winfunc)\n",
    "    feat = numpy.log(feat)\n",
    "    feat = dct(feat, type=2, axis=1, norm='ortho')[:,:numcep]\n",
    "    feat = lifter(feat,ceplifter)\n",
    "    if appendEnergy: feat[:,0] = numpy.log(energy) # replace first cepstral coefficient with log of frame energy\n",
    "    return feat"
   ]
  },
  {
   "cell_type": "code",
   "execution_count": 30,
   "id": "3d07e90f-2abe-4418-afcf-8ec00fad64ae",
   "metadata": {},
   "outputs": [],
   "source": [
    "def fbank(signal,samplerate=16000,winlen=0.025,winstep=0.01,\n",
    "          nfilt=26,nfft=512,lowfreq=0,highfreq=None,preemph=0.97,\n",
    "          winfunc=lambda x:numpy.ones((x,))):\n",
    "    highfreq= highfreq or samplerate/2\n",
    "    signal = preemphasis(signal,preemph)\n",
    "    frames = framesig(signal, winlen*samplerate, winstep*samplerate, winfunc)\n",
    "    pspec = powspec(frames,nfft)\n",
    "    energy = numpy.sum(pspec,1) # this stores the total energy in each frame\n",
    "    energy = numpy.where(energy == 0,numpy.finfo(float).eps,energy) # if energy is zero, we get problems with log\n",
    "\n",
    "    fb = get_filterbanks(nfilt,nfft,samplerate,lowfreq,highfreq)\n",
    "    feat = numpy.dot(pspec,fb.T) # compute the filterbank energies\n",
    "    feat = numpy.where(feat == 0,numpy.finfo(float).eps,feat) # if feat is zero, we get problems with log\n",
    "\n",
    "    return feat,energy"
   ]
  },
  {
   "cell_type": "code",
   "execution_count": 7,
   "id": "d3f6c106-0cfb-4e55-bcca-4c0eefebe162",
   "metadata": {},
   "outputs": [],
   "source": [
    "def logfbank(signal,samplerate=16000,winlen=0.025,winstep=0.01,\n",
    "             nfilt=26,nfft=512,lowfreq=0,highfreq=None,preemph=0.97,\n",
    "             winfunc=lambda x:numpy.ones((x,))):\n",
    "    feat,energy = fbank(signal,samplerate,winlen,winstep,nfilt,nfft,lowfreq,highfreq,preemph,winfunc)\n",
    "    return numpy.log(feat)"
   ]
  },
  {
   "cell_type": "code",
   "execution_count": 8,
   "id": "da68a099-48f9-4401-a1d9-32c3f1c5d76e",
   "metadata": {},
   "outputs": [],
   "source": [
    "def ssc(signal,samplerate=16000,winlen=0.025,winstep=0.01,\n",
    "        nfilt=26,nfft=512,lowfreq=0,highfreq=None,preemph=0.97,\n",
    "        winfunc=lambda x:numpy.ones((x,))):\n",
    "    highfreq= highfreq or samplerate/2\n",
    "    signal = sigproc.preemphasis(signal,preemph)\n",
    "    frames = sigproc.framesig(signal, winlen*samplerate, winstep*samplerate, winfunc)\n",
    "    pspec = sigproc.powspec(frames,nfft)\n",
    "    pspec = numpy.where(pspec == 0,numpy.finfo(float).eps,pspec) # if things are all zeros we get problems\n",
    "\n",
    "    fb = get_filterbanks(nfilt,nfft,samplerate,lowfreq,highfreq)\n",
    "    feat = numpy.dot(pspec,fb.T) # compute the filterbank energies\n",
    "    R = numpy.tile(numpy.linspace(1,samplerate/2,numpy.size(pspec,1)),(numpy.size(pspec,0),1))\n",
    "\n",
    "    return numpy.dot(pspec*R,fb.T) / feat"
   ]
  },
  {
   "cell_type": "code",
   "execution_count": 11,
   "id": "ca1366fd-3d55-4c64-99dd-cf373eed5817",
   "metadata": {},
   "outputs": [],
   "source": [
    "def hz2mel(hz):\n",
    "    return 2595 * numpy.log10(1+hz/700.)"
   ]
  },
  {
   "cell_type": "code",
   "execution_count": 10,
   "id": "5b7f2be9-20d5-4c07-8fc4-f8c10337524b",
   "metadata": {},
   "outputs": [],
   "source": [
    "def mel2hz(mel):\n",
    "    return 700*(10**(mel/2595.0)-1)"
   ]
  },
  {
   "cell_type": "code",
   "execution_count": 12,
   "id": "5273ba0c-c31b-4d89-97c2-bd69b7b7581c",
   "metadata": {},
   "outputs": [],
   "source": [
    "def get_filterbanks(nfilt=20,nfft=512,samplerate=16000,lowfreq=0,highfreq=None):\n",
    "    highfreq= highfreq or samplerate/2\n",
    "    assert highfreq <= samplerate/2, \"highfreq is greater than samplerate/2\"\n",
    "\n",
    "    # compute points evenly spaced in mels\n",
    "    lowmel = hz2mel(lowfreq)\n",
    "    highmel = hz2mel(highfreq)\n",
    "    melpoints = numpy.linspace(lowmel,highmel,nfilt+2)\n",
    "    # our points are in Hz, but we use fft bins, so we have to convert\n",
    "    #  from Hz to fft bin number\n",
    "    bin = numpy.floor((nfft+1)*mel2hz(melpoints)/samplerate)\n",
    "\n",
    "    fbank = numpy.zeros([nfilt,nfft//2+1])\n",
    "    for j in range(0,nfilt):\n",
    "        for i in range(int(bin[j]), int(bin[j+1])):\n",
    "            fbank[j,i] = (i - bin[j]) / (bin[j+1]-bin[j])\n",
    "        for i in range(int(bin[j+1]), int(bin[j+2])):\n",
    "            fbank[j,i] = (bin[j+2]-i) / (bin[j+2]-bin[j+1])\n",
    "    return fbank"
   ]
  },
  {
   "cell_type": "code",
   "execution_count": 13,
   "id": "b41f4d24-12ee-4f02-9b37-70d4d90a995f",
   "metadata": {},
   "outputs": [],
   "source": [
    "def lifter(cepstra, L=22):\n",
    "    if L > 0:\n",
    "        nframes,ncoeff = numpy.shape(cepstra)\n",
    "        n = numpy.arange(ncoeff)\n",
    "        lift = 1 + (L/2.)*numpy.sin(numpy.pi*n/L)\n",
    "        return lift*cepstra\n",
    "    else:\n",
    "        # values of L <= 0, do nothing\n",
    "        return cepstra"
   ]
  },
  {
   "cell_type": "code",
   "execution_count": 14,
   "id": "1bada3ce-9150-4d38-8cb0-a0c1b54551fa",
   "metadata": {},
   "outputs": [],
   "source": [
    "def delta(feat, N):\n",
    "    if N < 1:\n",
    "        raise ValueError('N must be an integer >= 1')\n",
    "    NUMFRAMES = len(feat)\n",
    "    denominator = 2 * sum([i**2 for i in range(1, N+1)])\n",
    "    delta_feat = numpy.empty_like(feat)\n",
    "    padded = numpy.pad(feat, ((N, N), (0, 0)), mode='edge')   # padded version of feat\n",
    "    for t in range(NUMFRAMES):\n",
    "        delta_feat[t] = numpy.dot(numpy.arange(-N, N+1), padded[t : t+2*N+1]) / denominator   # [t : t+2*N+1] == [(N+t)-N : (N+t)+N+1]\n",
    "    return delta_feat\n"
   ]
  },
  {
   "cell_type": "code",
   "execution_count": 16,
   "id": "c61b961d-2b76-4eff-a6ca-1fa9940a747a",
   "metadata": {},
   "outputs": [],
   "source": [
    "def round_half_up(number):\n",
    "    return int(decimal.Decimal(number).quantize(decimal.Decimal('1'), rounding=decimal.ROUND_HALF_UP))"
   ]
  },
  {
   "cell_type": "code",
   "execution_count": 17,
   "id": "fe85d883-ef34-4d95-acfc-31d7f5070768",
   "metadata": {},
   "outputs": [],
   "source": [
    "def rolling_window(a, window, step=1):\n",
    "    # http://ellisvalentiner.com/post/2017-03-21-np-strides-trick\n",
    "    shape = a.shape[:-1] + (a.shape[-1] - window + 1, window)\n",
    "    strides = a.strides + (a.strides[-1],)\n",
    "    return numpy.lib.stride_tricks.as_strided(a, shape=shape, strides=strides)[::step]"
   ]
  },
  {
   "cell_type": "code",
   "execution_count": 18,
   "id": "0e4f38e0-b27d-442f-95dc-fd70084d8e55",
   "metadata": {},
   "outputs": [],
   "source": [
    "def framesig(sig, frame_len, frame_step, winfunc=lambda x: numpy.ones((x,)), stride_trick=True):\n",
    "    \"\"\"Frame a signal into overlapping frames.\n",
    "\n",
    "    :param sig: the audio signal to frame.\n",
    "    :param frame_len: length of each frame measured in samples.\n",
    "    :param frame_step: number of samples after the start of the previous frame that the next frame should begin.\n",
    "    :param winfunc: the analysis window to apply to each frame. By default no window is applied.\n",
    "    :param stride_trick: use stride trick to compute the rolling window and window multiplication faster\n",
    "    :returns: an array of frames. Size is NUMFRAMES by frame_len.\n",
    "    \"\"\"\n",
    "    slen = len(sig)\n",
    "    frame_len = int(round_half_up(frame_len))\n",
    "    frame_step = int(round_half_up(frame_step))\n",
    "    if slen <= frame_len:\n",
    "        numframes = 1\n",
    "    else:\n",
    "        numframes = 1 + int(math.ceil((1.0 * slen - frame_len) / frame_step))\n",
    "\n",
    "    padlen = int((numframes - 1) * frame_step + frame_len)\n",
    "\n",
    "    zeros = numpy.zeros((padlen - slen,))\n",
    "    padsignal = numpy.concatenate((sig, zeros))\n",
    "    if stride_trick:\n",
    "        win = winfunc(frame_len)\n",
    "        frames = rolling_window(padsignal, window=frame_len, step=frame_step)\n",
    "    else:\n",
    "        indices = numpy.tile(numpy.arange(0, frame_len), (numframes, 1)) + numpy.tile(\n",
    "            numpy.arange(0, numframes * frame_step, frame_step), (frame_len, 1)).T\n",
    "        indices = numpy.array(indices, dtype=numpy.int32)\n",
    "        frames = padsignal[indices]\n",
    "        win = numpy.tile(winfunc(frame_len), (numframes, 1))\n",
    "\n",
    "    return frames * win"
   ]
  },
  {
   "cell_type": "code",
   "execution_count": 19,
   "id": "c690adb5-7bd7-4794-9359-134d174deeb0",
   "metadata": {},
   "outputs": [],
   "source": [
    "def deframesig(frames, siglen, frame_len, frame_step, winfunc=lambda x: numpy.ones((x,))):\n",
    "    \"\"\"Does overlap-add procedure to undo the action of framesig.\n",
    "\n",
    "    :param frames: the array of frames.\n",
    "    :param siglen: the length of the desired signal, use 0 if unknown. Output will be truncated to siglen samples.\n",
    "    :param frame_len: length of each frame measured in samples.\n",
    "    :param frame_step: number of samples after the start of the previous frame that the next frame should begin.\n",
    "    :param winfunc: the analysis window to apply to each frame. By default no window is applied.\n",
    "    :returns: a 1-D signal.\n",
    "    \"\"\"\n",
    "    frame_len = round_half_up(frame_len)\n",
    "    frame_step = round_half_up(frame_step)\n",
    "    numframes = numpy.shape(frames)[0]\n",
    "    assert numpy.shape(frames)[1] == frame_len, '\"frames\" matrix is wrong size, 2nd dim is not equal to frame_len'\n",
    "\n",
    "    indices = numpy.tile(numpy.arange(0, frame_len), (numframes, 1)) + numpy.tile(\n",
    "        numpy.arange(0, numframes * frame_step, frame_step), (frame_len, 1)).T\n",
    "    indices = numpy.array(indices, dtype=numpy.int32)\n",
    "    padlen = (numframes - 1) * frame_step + frame_len\n",
    "\n",
    "    if siglen <= 0: siglen = padlen\n",
    "\n",
    "    rec_signal = numpy.zeros((padlen,))\n",
    "    window_correction = numpy.zeros((padlen,))\n",
    "    win = winfunc(frame_len)\n",
    "\n",
    "    for i in range(0, numframes):\n",
    "        window_correction[indices[i, :]] = window_correction[\n",
    "                                               indices[i, :]] + win + 1e-15  # add a little bit so it is never zero\n",
    "        rec_signal[indices[i, :]] = rec_signal[indices[i, :]] + frames[i, :]\n",
    "\n",
    "    rec_signal = rec_signal / window_correction\n",
    "    return rec_signal[0:siglen]"
   ]
  },
  {
   "cell_type": "code",
   "execution_count": 20,
   "id": "28d47587-bddb-42c7-aa3a-b1baf394ca29",
   "metadata": {},
   "outputs": [],
   "source": [
    "def magspec(frames, NFFT):\n",
    "    \"\"\"Compute the magnitude spectrum of each frame in frames. If frames is an NxD matrix, output will be Nx(NFFT/2+1).\n",
    "\n",
    "    :param frames: the array of frames. Each row is a frame.\n",
    "    :param NFFT: the FFT length to use. If NFFT > frame_len, the frames are zero-padded.\n",
    "    :returns: If frames is an NxD matrix, output will be Nx(NFFT/2+1). Each row will be the magnitude spectrum of the corresponding frame.\n",
    "    \"\"\"\n",
    "    if numpy.shape(frames)[1] > NFFT:\n",
    "        logging.warn(\n",
    "            'frame length (%d) is greater than FFT size (%d), frame will be truncated. Increase NFFT to avoid.',\n",
    "            numpy.shape(frames)[1], NFFT)\n",
    "    complex_spec = numpy.fft.rfft(frames, NFFT)\n",
    "    return numpy.absolute(complex_spec)"
   ]
  },
  {
   "cell_type": "code",
   "execution_count": 21,
   "id": "b87af584-cfbf-4d91-9e4b-7fb64d71c9da",
   "metadata": {},
   "outputs": [],
   "source": [
    "def powspec(frames, NFFT):\n",
    "    \"\"\"Compute the power spectrum of each frame in frames. If frames is an NxD matrix, output will be Nx(NFFT/2+1).\n",
    "\n",
    "    :param frames: the array of frames. Each row is a frame.\n",
    "    :param NFFT: the FFT length to use. If NFFT > frame_len, the frames are zero-padded.\n",
    "    :returns: If frames is an NxD matrix, output will be Nx(NFFT/2+1). Each row will be the power spectrum of the corresponding frame.\n",
    "    \"\"\"\n",
    "    return 1.0 / NFFT * numpy.square(magspec(frames, NFFT))"
   ]
  },
  {
   "cell_type": "code",
   "execution_count": 22,
   "id": "ad9b1aa1-0c0e-48a7-8a2f-701ed420282b",
   "metadata": {},
   "outputs": [],
   "source": [
    "def logpowspec(frames, NFFT, norm=1):\n",
    "    \"\"\"Compute the log power spectrum of each frame in frames. If frames is an NxD matrix, output will be Nx(NFFT/2+1).\n",
    "\n",
    "    :param frames: the array of frames. Each row is a frame.\n",
    "    :param NFFT: the FFT length to use. If NFFT > frame_len, the frames are zero-padded.\n",
    "    :param norm: If norm=1, the log power spectrum is normalised so that the max value (across all frames) is 0.\n",
    "    :returns: If frames is an NxD matrix, output will be Nx(NFFT/2+1). Each row will be the log power spectrum of the corresponding frame.\n",
    "    \"\"\"\n",
    "    ps = powspec(frames, NFFT);\n",
    "    ps[ps <= 1e-30] = 1e-30\n",
    "    lps = 10 * numpy.log10(ps)\n",
    "    if norm:\n",
    "        return lps - numpy.max(lps)\n",
    "    else:\n",
    "        return lps"
   ]
  },
  {
   "cell_type": "code",
   "execution_count": 23,
   "id": "54758d51-fad7-4449-8485-32f00130bbf4",
   "metadata": {},
   "outputs": [],
   "source": [
    "def preemphasis(signal, coeff=0.95):\n",
    "    \"\"\"perform preemphasis on the input signal.\n",
    "\n",
    "    :param signal: The signal to filter.\n",
    "    :param coeff: The preemphasis coefficient. 0 is no filter, default is 0.95.\n",
    "    :returns: the filtered signal.\n",
    "    \"\"\"\n",
    "    return numpy.append(signal[0], signal[1:] - coeff * signal[:-1])"
   ]
  },
  {
   "cell_type": "code",
   "execution_count": 25,
   "id": "02322009-66d6-4fbd-8273-c98119ea0404",
   "metadata": {},
   "outputs": [],
   "source": [
    "y, sr = load(ex('libri1'))"
   ]
  },
  {
   "cell_type": "code",
   "execution_count": 28,
   "id": "122c49c9-82d6-4fe7-83e8-10bca43cfad4",
   "metadata": {},
   "outputs": [
    {
     "data": {
      "text/plain": [
       "array([[-565.9195   , -564.28815  , -562.8431   , ..., -437.97177  ,\n",
       "        -426.48358  , -434.66782  ],\n",
       "       [  10.304618 ,   12.508709 ,   14.130636 , ...,   89.98184  ,\n",
       "          88.43012  ,   90.120255 ],\n",
       "       [   9.748487 ,   11.672071 ,   12.139029 , ...,  -10.730869 ,\n",
       "         -10.773369 ,   -5.2245703],\n",
       "       ...,\n",
       "       [  -1.5704863,   -2.0978153,   -3.0435863, ...,   -2.585959 ,\n",
       "          -4.4007945,   -4.668362 ],\n",
       "       [  -1.9920207,   -2.682422 ,   -3.1783807, ...,   -4.045431 ,\n",
       "           1.487895 ,    3.6362567],\n",
       "       [  -2.1463804,   -2.8828554,   -2.8759928, ...,    1.6753986,\n",
       "           3.1740243,    2.8180344]], dtype=float32)"
      ]
     },
     "execution_count": 28,
     "metadata": {},
     "output_type": "execute_result"
    }
   ],
   "source": [
    "feature.mfcc(y=y, sr=sr, n_mfcc=40)"
   ]
  },
  {
   "cell_type": "code",
   "execution_count": 34,
   "id": "b22f1cc5-109f-49cc-91c5-ecc9d6ee3371",
   "metadata": {},
   "outputs": [
    {
     "data": {
      "text/plain": [
       "array([[-13.75522287, -16.69152564,  -2.98704684, ...,  28.00897888,\n",
       "          8.3748943 ,  -0.12729957],\n",
       "       [-13.85139797, -16.48606701,  -4.88373073, ...,  22.32051789,\n",
       "          9.41018658,   6.71527343],\n",
       "       [-13.9578787 , -16.69240289,  -7.96790991, ...,  21.63484217,\n",
       "          2.43201493,  12.01686139],\n",
       "       ...,\n",
       "       [ -8.23216429,  -1.17245832, -35.19614476, ...,  13.39814182,\n",
       "         -0.18192372,  -3.80421863],\n",
       "       [ -8.15667423,   1.13421399, -33.88410326, ...,  21.16195423,\n",
       "          2.57219832,  -4.70251236],\n",
       "       [ -8.54108162,  -0.15602263, -28.69141386, ...,   7.52136996,\n",
       "         -1.00294898,  -8.72056597]])"
      ]
     },
     "execution_count": 34,
     "metadata": {},
     "output_type": "execute_result"
    }
   ],
   "source": [
    "mfcc(y, samplerate=sr, nfilt=40)"
   ]
  },
  {
   "cell_type": "code",
   "execution_count": null,
   "id": "d4d126c5-8cda-4db9-9964-ec79e541f134",
   "metadata": {},
   "outputs": [],
   "source": []
  }
 ],
 "metadata": {
  "kernelspec": {
   "display_name": "Python 3 (ipykernel)",
   "language": "python",
   "name": "python3"
  },
  "language_info": {
   "codemirror_mode": {
    "name": "ipython",
    "version": 3
   },
   "file_extension": ".py",
   "mimetype": "text/x-python",
   "name": "python",
   "nbconvert_exporter": "python",
   "pygments_lexer": "ipython3",
   "version": "3.12.2"
  }
 },
 "nbformat": 4,
 "nbformat_minor": 5
}
